{
 "cells": [
  {
   "cell_type": "markdown",
   "id": "c925a41b",
   "metadata": {},
   "source": [
    "Данный код приведен для примера отправки запросов к личному кабинету suppliers-api.wildberries.ru\n",
    "Запрос работают только с версией сервера v1. Примеры запросов на v2 будут позже\n",
    "\n",
    "Все запросы и описания взяты c файла https://images.wbstatic.net/portal/education/Kak_rabotat'_s_servisom_statistiki.pdf?abc=1612952230000"
   ]
  },
  {
   "cell_type": "code",
   "execution_count": null,
   "id": "d9df5b18",
   "metadata": {},
   "outputs": [],
   "source": [
    "import requests\n",
    "import pandas as pd\n",
    "import datetime as dt\n",
    "import time\n",
    "import matplotlib.pyplot as plt\n",
    "\n",
    "#from itables import init_notebook_mode\n",
    "#init_notebook_mode(all_interactive=False)"
   ]
  },
  {
   "cell_type": "code",
   "execution_count": null,
   "id": "4c097fae",
   "metadata": {},
   "outputs": [],
   "source": [
    "#считываем ключи для v1. Ключи генерируются на сайте в личном кабинете\n",
    "with open(r'.\\keys\\v1\\x64.txt', 'r') as file:\n",
    "    API_link_x64 = file.read().replace('\\n', '')\n",
    "\n",
    "DateFrom='2022-04-15' #в формате RFC3339\n",
    "API_ADDRESS='https://suppliers-api.wildberries.ru'"
   ]
  },
  {
   "cell_type": "code",
   "execution_count": null,
   "id": "e078a315",
   "metadata": {},
   "outputs": [],
   "source": [
    "print(f'мой ключ {API_link_x64}')"
   ]
  },
  {
   "cell_type": "markdown",
   "id": "e0bc9fc4",
   "metadata": {},
   "source": [
    "# Функции"
   ]
  },
  {
   "cell_type": "markdown",
   "id": "89f274a6",
   "metadata": {},
   "source": [
    "## requests GET"
   ]
  },
  {
   "cell_type": "code",
   "execution_count": null,
   "id": "f3b9977d",
   "metadata": {},
   "outputs": [],
   "source": [
    "def SendRequest(input_url,input_params):\n",
    "    \"\"\"отправляем запрос на wb\n",
    "    input:\n",
    "        input_url - web путь к обработчику wildberries.\n",
    "        input_params - запрос jston к web api\n",
    "    output:\n",
    "        data - результат запроса\n",
    "    \"\"\"\n",
    "    print('url',input_url)\n",
    "    print('params',input_params)\n",
    "        \n",
    "    start_time = time.time()\n",
    "    resp = requests.get(url=input_url, params=input_params)\n",
    "    try:\n",
    "        data = resp.json()\n",
    "    except:\n",
    "        print('Ошибка!', resp)\n",
    "        return 0\n",
    "    print(\"--- %s seconds ---\" % (time.time() - start_time))\n",
    "    if data!=None:\n",
    "        print('got',len(data),'rows')\n",
    "    else:\n",
    "        print('No datas!!!')\n",
    "    \n",
    "    return data"
   ]
  },
  {
   "cell_type": "code",
   "execution_count": null,
   "id": "97ac09e1",
   "metadata": {},
   "outputs": [],
   "source": [
    "def GetStocks(input_dateFrom):\n",
    "    \"\"\"отправляем запрос на информацию по складу\n",
    "    !!!ВНИМАНИЕ!!!! Сервис статистики не хранит историю ОТСАТКОВ товаров, поэтому получить данные об остатках товаров на прошедшую, не сегодняшнюю, дату\n",
    "    невозможно. Можно получить данные только на момент запроса к API\n",
    "    !!!данные обновляются раз в сутки!!!\n",
    "    input:\n",
    "        input_dateFrom - дата и время от которого смотреть статистику. Формат RFC3339\n",
    "    output:\n",
    "        result - результат запроса в формате df\n",
    "    \"\"\"\n",
    "    print('Get stocks request...')\n",
    "    url = 'https://suppliers-stats.wildberries.ru/api/v1/supplier/stocks'\n",
    "    params = {\n",
    "        'dateFrom':input_dateFrom,\n",
    "        'key':API_link_x64        \n",
    "    } \n",
    "    result = SendRequest(url,params)\n",
    "    if result==0: #если во время запроса была ошибка, то возвращаем 0\n",
    "        return 0\n",
    "    \n",
    "    return pd.DataFrame(result)"
   ]
  },
  {
   "cell_type": "code",
   "execution_count": null,
   "id": "ce1962a4",
   "metadata": {},
   "outputs": [],
   "source": [
    "def GetOrders(input_dateFrom, is_flag):\n",
    "    \"\"\"отправляем запрос на список заказов\n",
    "    !!!Данные обновляются 1 раз в 30 минут. (Точное время отображается в поле lastChangeDate)!!!\n",
    "    !!!Гарантируется хранение данных продаж не более 90 дней от текущей даты.!!!\n",
    "    input:\n",
    "        input_dateFrom - дата и время от которого смотреть статистику Формат RFC3339\n",
    "        is_flag -  0 - (или не указан в строке запроса), при вызове API возвращаются данные у которых значение поля lastChangeDate (дата время обновления информации в сервисе) больше переданного в вызов значения параметра dateFrom. При этом количество возвращенных строк данных варьируется в интервале от 0 до примерно 100000\n",
    "                   1 - будет выгружена информация обо всех заказах или продажах с датой равной переданному параметру dateFrom (в данном случае время в дате значения не имеет). При этом количество возвращенных строк данных равно количеству всех заказов или продаж, сделанных в дате, переданной в параметре dateFrom. Ограничение на разовый запрос — около ста тысяч записей.\n",
    "    output:\n",
    "        result - результат запроса в формате df\n",
    "    \"\"\"\n",
    "    print('Get orders request...')\n",
    "    url = 'https://suppliers-stats.wildberries.ru/api/v1/supplier/orders'\n",
    "    params = {\n",
    "        'dateFrom':input_dateFrom,\n",
    "        'flag':is_flag,\n",
    "        'key':API_link_x64  \n",
    "    } \n",
    "    result = SendRequest(url,params)\n",
    "    if result==0: #если во время запроса была ошибка, то возвращаем 0\n",
    "        return 0\n",
    "    return pd.DataFrame(result)"
   ]
  },
  {
   "cell_type": "code",
   "execution_count": null,
   "id": "dd4c759f",
   "metadata": {},
   "outputs": [],
   "source": [
    "def GetSales(input_dateFrom, is_flag):\n",
    "    \"\"\"отправляем запрос на список продаж\n",
    "    !!!Гарантируется хранение данных заказов не более 90 днейот текущей даты. !!!\n",
    "    !!!Данные обновляются 1 раз в 30 минут. (Точное время отображается в поле lastChangeDate)!!!\n",
    "    input:\n",
    "        input_dateFrom - дата и время от которого смотреть статистику Формат RFC3339\n",
    "        is_flag -  0 - (или не указан в строке запроса), при вызове API возвращаются данные у которых значение поля lastChangeDate (дата время обновления информации в сервисе) больше переданного в вызов значения параметра dateFrom. При этом количество возвращенных строк данных варьируется в интервале от 0 до примерно 100000.\n",
    "                   1 - выгружена информация обо всех заказах или продажах с датой равной переданному параметру dateFrom (в данном случае время в дате значения  не имеет). При этом количество возвращенных строк данных равно количеству всех заказов или продаж, сделанных в дате, переданной в параметре dateFrom.\n",
    "    output:\n",
    "        result - результат запроса в формате df\n",
    "    \"\"\"\n",
    "    print('Get sales request...')\n",
    "    url = 'https://suppliers-stats.wildberries.ru/api/v1/supplier/sales'\n",
    "    params = {\n",
    "        'dateFrom':input_dateFrom,\n",
    "        'flag':is_flag,\n",
    "        'key':API_link_x64  \n",
    "    } \n",
    "    result = SendRequest(url,params)\n",
    "    if result==0: #если во время запроса была ошибка, то возвращаем 0\n",
    "        return 0\n",
    "    return pd.DataFrame(result)"
   ]
  },
  {
   "cell_type": "code",
   "execution_count": null,
   "id": "01afc2f1",
   "metadata": {},
   "outputs": [],
   "source": [
    "def GetReportDetailByPeriod(input_dateFrom, input_dateTo, input_limit, input_rrdid):\n",
    "    \"\"\"отправляем запрос на получение детального отчета\n",
    "    По API можно получать данные за произвольный заданный период начиная с июня 2020г\n",
    "    !!!В API хранятся данные не более трех последних месяцев.!!!\n",
    "    input:\n",
    "        input_dateFrom - дата и время от которого смотреть статистику Формат RFC3339\n",
    "        input_dateTo - конечная дата периода.\n",
    "        input_limit - максимальное количество строк отчета получаемых в результате вызова API. Рекомендуем загружать отчет небольшими частями, например, по 100 000 строк на один вызов\n",
    "        input_rrdid – уникальный идентификатор строки отчета. Необходим для получения отчета частями. Загрузку отчета нужно начинать с rrdid = 0, и при последующих вызовах API передавать максимальное значение rrdid полученное в результате предыдущего вызова. Таким образом для загрузки одного отчета может понадобится вызывать API до тех пор, пока количество возвращаемых строк не станет равным нулю\n",
    "    output:\n",
    "        result - результат запроса в формате df\n",
    "    \"\"\"\n",
    "    print('Get ReportDetailByPeriod request...')\n",
    "    url = 'https://suppliers-stats.wildberries.ru/api/v1/supplier/reportDetailByPeriod'\n",
    "    params = {\n",
    "        'dateFrom':input_dateFrom,\n",
    "        'dateTo':input_dateTo,\n",
    "        'limit':input_limit,\n",
    "        'rrdid':input_rrdid,\n",
    "        'key':API_link_x64  \n",
    "    } \n",
    "    result = SendRequest(url,params)\n",
    "    if result==0: #если во время запроса была ошибка, то возвращаем 0\n",
    "        return 0\n",
    "    return pd.DataFrame(result)"
   ]
  },
  {
   "cell_type": "code",
   "execution_count": null,
   "id": "818e743d",
   "metadata": {},
   "outputs": [],
   "source": [
    "def GetExciseReport(input_dateFrom):\n",
    "    \"\"\"отправляем запрос на КиЗ\n",
    "    input:\n",
    "        input_dateFrom - дата и время от которого смотреть статистику Формат RFC3339\n",
    "    output:\n",
    "        result - результат запроса в формате df\n",
    "    \"\"\"\n",
    "    print('Get kiz report request...')\n",
    "    url = 'https://suppliers-stats.wildberries.ru/api/v1/supplier/excise-goods'\n",
    "    params = {\n",
    "        'dateFrom':input_dateFrom,\n",
    "        'key':API_link_x64  \n",
    "    } \n",
    "    result = SendRequest(url,params)\n",
    "    if result==0: #если во время запроса была ошибка, то возвращаем 0\n",
    "        return 0\n",
    "    return pd.DataFrame(result)"
   ]
  },
  {
   "cell_type": "markdown",
   "id": "51e61a0e",
   "metadata": {},
   "source": [
    "## additation"
   ]
  },
  {
   "cell_type": "code",
   "execution_count": null,
   "id": "b9cf1559",
   "metadata": {},
   "outputs": [],
   "source": [
    "def Localization(input_df):\n",
    "    #словарь для удобного чтения\n",
    "    transl_col_dic={}\n",
    "    transl_col_dic['date']='дата' # дата, когда данные появились в системе (по ним и отслеживатьизменение, появление новых)\n",
    "    transl_col_dic['docnumber']='фискальный_номер'# номер фискального документа\n",
    "    transl_col_dic['excise']= 'акциз'# акциз (он же киз)\n",
    "    transl_col_dic['finishedPrice']= 'цена_товара_с_НДС' # цена товара с учетом НДС\n",
    "    transl_col_dic['fiscalDt']= 'время_фискализации' #время фискализации\n",
    "    transl_col_dic['fnnumber']= 'номер_фиск_накопителя' #номер фискального накопителя\n",
    "    transl_col_dic['operationTypeId']= 'тип_операции' #тип операции (тип операции 1 - продажа, 2 - возврат)\n",
    "    transl_col_dic['regNumber']= 'номер_ККТ' #регистрационный номер ККТ\n",
    "    transl_col_dic['inn']='ИНН' #ИНН поставщика\n",
    "    transl_col_dic['realizationreport_id']='Номер_отчета'\n",
    "    transl_col_dic['suppliercontract_code']='Договор'\n",
    "    transl_col_dic['rid']='id_заказа' #Уникальный идентификатор позиции заказа\n",
    "    transl_col_dic['rr_dt']='Дата_операции'\n",
    "    transl_col_dic['rrd_id']='Номер_строки'\n",
    "    transl_col_dic['gi_id']='Номер_поставки'\n",
    "    transl_col_dic['subject_name']='Предмет'\n",
    "    transl_col_dic['NM_id']='Артикул'\n",
    "    transl_col_dic['brand_name']='Бренд'\n",
    "    transl_col_dic['sa_name']='Артикул_поставщика'\n",
    "    transl_col_dic['ts_name']='Размер'\n",
    "    transl_col_dic['barcode']='Баркод'\n",
    "    transl_col_dic['doc_type_name']='Тип_документа'\n",
    "    transl_col_dic['quantity']='Количество'\n",
    "    transl_col_dic['retail_price']='Цена_розничная'\n",
    "    transl_col_dic['retail_amount']='Сумма_продаж(Возвратов)'\n",
    "    transl_col_dic['sale_percent']='Согласованная_скидка'\n",
    "    transl_col_dic['commission_percent']='Процент_комиссии'\n",
    "    transl_col_dic['office_name']='Склад'\n",
    "    transl_col_dic['supplier_oper_name']='Обоснование_для_оплаты'\n",
    "    transl_col_dic['order_dt']='Даты_заказа'\n",
    "    transl_col_dic['sale_dt']='Дата_продажи'\n",
    "    transl_col_dic['shk_id']='ШК'\n",
    "    transl_col_dic['retail_price_withdisc_rub']='Цена_розничная_с_учетом'\n",
    "    transl_col_dic['delivery_amount']='Колво_доставок'\n",
    "    transl_col_dic['return_amount']='Колво_возвратов'\n",
    "    transl_col_dic['delivery_rub']='Стоимость_логистики'\n",
    "    transl_col_dic['gi_box_type_name']='Тип_коробов'\n",
    "    transl_col_dic['product_discount_for_report']='Скидка_согласованная' #Согласованныйпродуктовыйдисконт\n",
    "    transl_col_dic['supplier_promo']='Промокод'\n",
    "    transl_col_dic['ppvz_spp_prc']='Скидка_покупателя' #СкидкапостоянногоПокупателя(СПП)'\n",
    "    transl_col_dic['ppvz_kvw_prc_base']='Размер_кВВ_без_НДС'\n",
    "    transl_col_dic['ppvz_kvw_prc']='Итоговый_кВВ_безНДС'\n",
    "    transl_col_dic['ppvz_sales_commission']='Вознаграждение' #Вознаграждение с продаж до вычета услуг поверенного, без НДС\n",
    "    transl_col_dic['ppvz_for_pay']='перечесление_за_реализацию' #К перечислению Продавцу за реализованный Товар\n",
    "    transl_col_dic['ppvz_reward']='Возмещение' #Возмещение Расходов услуг поверенного\n",
    "    transl_col_dic['ppvz_vw']='Вознаграждение_wb' #Вознаграждение Вайлдберриз (ВВ), без НДС\n",
    "    transl_col_dic['ppvz_vw_nds']='Вознаграждение_wb_nds' #Вознаграждение Вайлдберриз (ВВ), с НДС\n",
    "    transl_col_dic['ppvz_office_id']='Номер_офиса' #Номер_офиса доставки\n",
    "    transl_col_dic['ppvz_office_name']='Наименование_офиса' #Наименование_офиса доставки\n",
    "    transl_col_dic['ppvz_supplier_id']='Номер_партнера'\n",
    "    transl_col_dic['ppvz_supplier_name']='Партнер'\n",
    "    transl_col_dic['ppvz_inn']='ИНН_партнера'\n",
    "    transl_col_dic['declaration_number']='Номер_томожн' #Номер таможенной декларации\n",
    "    transl_col_dic['bonus_type_name']='Обоснование' #Обоснование штрафов и доплат\n",
    "\n",
    "    #продажи\n",
    "    transl_col_dic['gNumber']='номер_заказа'\n",
    "    transl_col_dic['Number']='номер_документа'\n",
    "    transl_col_dic['Date']='дата_продажи'\n",
    "    transl_col_dic['lastChangeDate']='дата время обновления информации в сервисе'\n",
    "    transl_col_dic['supplierArticle']='ваш артикул'\n",
    "    transl_col_dic['techSize']='размер'\n",
    "    transl_col_dic['barcode']='штрих-код'\n",
    "    transl_col_dic['quantity']='кол-во'\n",
    "    transl_col_dic['totalPrice']='розничная_цена'     #начальная_розничная_цена_товара  totalPrice*(100-discountPercent)/100\n",
    "    transl_col_dic['discountPercent']='скидка' #согласованная скидка на товар\n",
    "    transl_col_dic['isSupply']='договор_поставки'\n",
    "    transl_col_dic['isRealization']='договор_реализации'\n",
    "    transl_col_dic['promoCodeDiscount']='согласованный_промокод'\n",
    "    transl_col_dic['warehouseName']='склад_отгрузки'\n",
    "    transl_col_dic['countryName']='страна'\n",
    "    transl_col_dic['oblastOkrugName']='округ'\n",
    "    transl_col_dic['regionName']='регион'\n",
    "    transl_col_dic['incomeID']='номер_поставки'\n",
    "    transl_col_dic['saleID']='ID продажи' #'уникальный идентификатор продажи/возврата (SXXXXXXXXXX — продажа, RXXXXXXXXXX — возврат, DXXXXXXXXXXX — доплата, 'AXXXXXXXXX' – сторно продаж (все значения полей как у продажи, но поля с суммами и кол-вом с минусом как в возврате). SaleID='BXXXXXXXXX' - сторно возврата(все значения полей как у возврата, но поля с суммами и кол-вом с плюсом, в противоположность возврату)'\n",
    "    transl_col_dic['Odid']='позиция_заказа' #уникальный идентификатор позиции заказа        \n",
    "    transl_col_dic['spp']='скидка_покупателя' #согласованная скидка постоянного покупателя (СПП)'       \n",
    "    transl_col_dic['forpay']='к_оплате'    #к перечислению поставщику     \n",
    "    transl_col_dic['finished_price']='фактическая цена' #фактическая цена из заказа (с учетом всех скидок, включая и от ВБ)\n",
    "    transl_col_dic['pricewithdisc']='цена_возаграждения' #цена, от которой считается вознаграждение поставщика forpay (с учетом всех согласованных скидок)) totalprice*((100 – discountPercent)/100 ) *((100 – promoCodeDiscount)/100 ) *((100 – spp)/100 )\n",
    "    transl_col_dic['nmId']='код WB'\n",
    "    transl_col_dic['subject']='предмет'\n",
    "    transl_col_dic['category']='категория'\n",
    "    transl_col_dic['brand']='бренд'\n",
    "    \n",
    "    #заказы\n",
    "    transl_col_dic['gNumber']='номер_заказа' #объединяет все уникальные позиции одного заказа\n",
    "    transl_col_dic['date']='дата_заказа'\n",
    "    transl_col_dic['lastChangeDate']='дата_обновления' #Дата/времядатавремяобновленияинформациив'\n",
    "    transl_col_dic['supplierArticle']='артикул'\n",
    "    transl_col_dic['techSize']='размер'\n",
    "    transl_col_dic['barcode']='штрих-код'\n",
    "    transl_col_dic['quantity']='кол-во'\n",
    "    transl_col_dic['totalPrice']='цена_со_скидкой' #ценадосогласованнойскидки/промо/спп\n",
    "    transl_col_dic['discountPercent']='итоговая_скидка' #согласованныйитоговыйдисконт.\n",
    "    transl_col_dic['warehouseName']='складотгрузки'\n",
    "    transl_col_dic['oblast']='область'\n",
    "    transl_col_dic['incomeID']='номер_поставки'\n",
    "    transl_col_dic['odid']='уникальный_id'#'уникальныйидентификаторпозиции'\n",
    "    transl_col_dic['nmid']='КодWB'\n",
    "    transl_col_dic['subject']='предмет'\n",
    "    transl_col_dic['category']='категория'\n",
    "    transl_col_dic['brand']='бренд'\n",
    "    transl_col_dic['is_cancel']='заказ_отменен'#'Отменазаказа.1–заказотменендо оплаты'\n",
    "\n",
    "    #поставки\n",
    "    transl_col_dic['lastChangeDate']='дата_обновления' # 'обновления информации сервисе\n",
    "    transl_col_dic['supplierArticle']='артикул'\n",
    "    transl_col_dic['techSize']='размер'\n",
    "    transl_col_dic['Barcode']='штрих-код'\n",
    "    transl_col_dic['Quantity']='кол-во' #\"количество, доступное для продажи\" —доступно на сайте, можно добавить в корзину\n",
    "    transl_col_dic['isSupply']='договор_поставки'\n",
    "    transl_col_dic['isRealization']='договор_реализации'\n",
    "    transl_col_dic['quantityFull']='кол-вополное'\n",
    "    transl_col_dic['quantityNotInOrders']='кол-во_не_в_заказе' #\"количество не в заказе\" — ислится на складе, и при этом не числится в незавершенном заказе\n",
    "    transl_col_dic['warehouseName']='название_склада'\n",
    "    transl_col_dic['inWayToClient']='впутикклиенту(штук)'\n",
    "    transl_col_dic['inWayFromClient']='впутиотклиента(штук)'\n",
    "    transl_col_dic['nmid']='код_WB'\n",
    "    transl_col_dic['subject']='предмет'\n",
    "    transl_col_dic['category']='категория'\n",
    "    transl_col_dic['DaysOnSite']='кол-во_дней_на_сайте'\n",
    "    transl_col_dic['brand']='бренд'\n",
    "    transl_col_dic['SCCode']='код_контракта'\n",
    "\n",
    "    \n",
    "    transl_col_dic['incomeid']='номер_поставки'\n",
    "    transl_col_dic['Number']='номер_УПД'\n",
    "    transl_col_dic['Date']='дата_поступления'\n",
    "    transl_col_dic['lastChangeDate']= 'дата_и_время_на_серивсе'#'датаивремяобновленияинформации сервисе'\n",
    "    transl_col_dic['SupplierArticle']='артикул'\n",
    "    transl_col_dic['TechSize']='размер'\n",
    "    transl_col_dic['Barcode']='штрих-код'\n",
    "    transl_col_dic['Quantity']='кол-во' \n",
    "    transl_col_dic['totalPrice']='цена_из_УПД'\n",
    "    transl_col_dic['dateClose']='дата_принятия(закрытия)='\n",
    "    transl_col_dic['warehouseName']='название_склада'\n",
    "    transl_col_dic['nmid']='КодWB'\n",
    "    transl_col_dic['status']='статус_поставки'\n",
    "\n",
    "    input_df.rename(columns=transl_col_dic, inplace=True)\n",
    "    \n",
    "    return input_df"
   ]
  },
  {
   "cell_type": "markdown",
   "id": "cb336c2e",
   "metadata": {
    "heading_collapsed": true
   },
   "source": [
    "# Test"
   ]
  },
  {
   "cell_type": "code",
   "execution_count": null,
   "id": "d16fb991",
   "metadata": {
    "hidden": true
   },
   "outputs": [],
   "source": [
    "#проверям,что все запросы отрабатывают корректно\n",
    "dateTo= dt.datetime.now(date.timezone.utc) #для теста выберим сегодняшнюю дату\n",
    "dateFrom= dateTo - dt.timedelta(days=1) #там, где необходим период, возьмем вчерашнюю дату\n",
    "dateTo=dateTo.isoformat()\n",
    "dateFrom=dateFrom.isoformat()\n",
    "\n",
    "#это параметры обязательные для разных запросов и пример их вызова\n",
    "limit=100\n",
    "rrdid=0\n",
    "flag=0\n",
    "key=API_link_x64 \n",
    "GetStocks(dateFrom)#отправляем запрос на информацию по складу\n",
    "GetSales(dateFrom,flag)#отправляем запрос на список продаж\n",
    "GetOrders(dateFrom,flag) #отправляем запрос на список заказов\n",
    "GetReportDetailByPeriod(dateFrom,dateTo,limit,rrdid) #отправляем запрос на получение детального отчета\n",
    "GetExciseReport(dateFrom) #отправляем запрос на КиЗ. Этот запрос почему то не работает"
   ]
  },
  {
   "cell_type": "markdown",
   "id": "5dd49d2a",
   "metadata": {},
   "source": [
    "# main"
   ]
  },
  {
   "cell_type": "markdown",
   "id": "9d0edd21",
   "metadata": {},
   "source": [
    "Здесь можно уже играться с запросами и выводить отчеты с переводом полей или без"
   ]
  },
  {
   "cell_type": "code",
   "execution_count": null,
   "id": "db89db1a",
   "metadata": {},
   "outputs": [],
   "source": [
    "dateFrom='2000-04-13' #берем произвольную дату\n",
    "df_stocks=GetStocks(dateFrom) #отправляем на эту дату запрос по складу"
   ]
  },
  {
   "cell_type": "code",
   "execution_count": null,
   "id": "d465d6e3",
   "metadata": {},
   "outputs": [],
   "source": [
    "#выводим первые 5 строк\n",
    "df_stocks[:5]"
   ]
  },
  {
   "cell_type": "code",
   "execution_count": null,
   "id": "c4bf8be0",
   "metadata": {},
   "outputs": [],
   "source": [
    "translate_df=Localization(df_stocks) #если надо,переименоваем столбцы"
   ]
  },
  {
   "cell_type": "code",
   "execution_count": null,
   "id": "77534139",
   "metadata": {},
   "outputs": [],
   "source": [
    "df_stocks[:5] #выводим уже с переименованием"
   ]
  },
  {
   "cell_type": "code",
   "execution_count": null,
   "id": "4a460688",
   "metadata": {},
   "outputs": [],
   "source": [
    "df_stocks.to_excel(\"stocks.xlsx\") #сохраняем в excel,если надо в корневую директорию"
   ]
  },
  {
   "cell_type": "code",
   "execution_count": null,
   "id": "00279e6a",
   "metadata": {},
   "outputs": [],
   "source": []
  }
 ],
 "metadata": {
  "finalized": {
   "timestamp": 1649690315157,
   "trusted": false
  },
  "kernelspec": {
   "display_name": "test",
   "language": "python",
   "name": "test"
  },
  "language_info": {
   "codemirror_mode": {
    "name": "ipython",
    "version": 3
   },
   "file_extension": ".py",
   "mimetype": "text/x-python",
   "name": "python",
   "nbconvert_exporter": "python",
   "pygments_lexer": "ipython3",
   "version": "3.9.7"
  }
 },
 "nbformat": 4,
 "nbformat_minor": 5
}
